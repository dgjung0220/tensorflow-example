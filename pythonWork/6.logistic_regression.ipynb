{
 "cells": [
  {
   "cell_type": "code",
   "execution_count": 2,
   "metadata": {},
   "outputs": [],
   "source": [
    "import tensorflow as tf"
   ]
  },
  {
   "cell_type": "code",
   "execution_count": 3,
   "metadata": {},
   "outputs": [],
   "source": [
    "x_data = [[1, 2],\n",
    "          [2, 3],\n",
    "          [3, 1],\n",
    "          [4, 3],\n",
    "          [5, 3],\n",
    "          [6, 2]]"
   ]
  },
  {
   "cell_type": "code",
   "execution_count": 4,
   "metadata": {},
   "outputs": [],
   "source": [
    "y_data = [[0],\n",
    "          [0],\n",
    "          [0],\n",
    "          [1],\n",
    "          [1],\n",
    "          [1]]"
   ]
  },
  {
   "cell_type": "code",
   "execution_count": 5,
   "metadata": {},
   "outputs": [],
   "source": [
    "X = tf.placeholder(tf.float32, shape=[None, 2])\n",
    "Y = tf.placeholder(tf.float32, shape=[None, 1])"
   ]
  },
  {
   "cell_type": "code",
   "execution_count": 6,
   "metadata": {},
   "outputs": [],
   "source": [
    "W = tf.Variable(tf.random_normal([2,1]), name='weight')\n",
    "b = tf.Variable(tf.random_normal([1]), name='bias')"
   ]
  },
  {
   "cell_type": "code",
   "execution_count": 7,
   "metadata": {},
   "outputs": [],
   "source": [
    "hypothesis = tf.sigmoid(tf.matmul(X, W) + b)"
   ]
  },
  {
   "cell_type": "code",
   "execution_count": 8,
   "metadata": {},
   "outputs": [],
   "source": [
    "cost = -tf.reduce_mean(Y * tf.log(hypothesis) + (1-Y) * tf.log(1 - hypothesis))"
   ]
  },
  {
   "cell_type": "code",
   "execution_count": 9,
   "metadata": {},
   "outputs": [],
   "source": [
    "train = tf.train.GradientDescentOptimizer(learning_rate=0.01).minimize(cost)"
   ]
  },
  {
   "cell_type": "code",
   "execution_count": 10,
   "metadata": {},
   "outputs": [],
   "source": [
    "# Accuracy computation\n",
    "# True if hypothesis > 0.5 else False\n",
    "predicted = tf.cast(hypothesis > 0.5, dtype=tf.float32)\n",
    "accuracy = tf.reduce_mean(tf.cast(tf.equal(predicted, Y), dtype=tf.float32))"
   ]
  },
  {
   "cell_type": "code",
   "execution_count": 11,
   "metadata": {},
   "outputs": [
    {
     "name": "stdout",
     "output_type": "stream",
     "text": [
      "0 3.3472598\n",
      "200 0.78345114\n",
      "400 0.70445734\n",
      "600 0.6571923\n",
      "800 0.6232096\n",
      "1000 0.59559745\n",
      "1200 0.5714578\n",
      "1400 0.5494681\n",
      "1600 0.52898425\n",
      "1800 0.50967544\n",
      "2000 0.49136326\n",
      "2200 0.4739453\n",
      "2400 0.4573574\n",
      "2600 0.44155458\n",
      "2800 0.42650142\n",
      "3000 0.41216648\n",
      "3200 0.39851987\n",
      "3400 0.38553277\n",
      "3600 0.37317595\n",
      "3800 0.3614206\n",
      "4000 0.35023797\n",
      "4200 0.33959958\n",
      "4400 0.32947773\n",
      "4600 0.31984523\n",
      "4800 0.31067577\n",
      "5000 0.3019444\n",
      "5200 0.29362676\n",
      "5400 0.28569964\n",
      "5600 0.2781411\n",
      "5800 0.27093044\n",
      "6000 0.26404783\n",
      "6200 0.25747463\n",
      "6400 0.25119346\n",
      "6600 0.24518757\n",
      "6800 0.23944157\n",
      "7000 0.23394077\n",
      "7200 0.22867167\n",
      "7400 0.22362125\n",
      "7600 0.2187775\n",
      "7800 0.21412915\n",
      "8000 0.20966561\n",
      "8200 0.20537704\n",
      "8400 0.20125405\n",
      "8600 0.19728796\n",
      "8800 0.19347054\n",
      "9000 0.18979423\n",
      "9200 0.18625163\n",
      "9400 0.18283623\n",
      "9600 0.17954153\n",
      "9800 0.17636167\n",
      "10000 0.17329085\n",
      "\n",
      "Hypothesis:  [[0.04134496]\n",
      " [0.17112318]\n",
      " [0.35216144]\n",
      " [0.76053095]\n",
      " [0.92568576]\n",
      " [0.97562736]] \n",
      "Correct (Y):  [[0.]\n",
      " [0.]\n",
      " [0.]\n",
      " [1.]\n",
      " [1.]\n",
      " [1.]] \n",
      "Accuracy:  1.0\n"
     ]
    }
   ],
   "source": [
    "# Launch graph\n",
    "with tf.Session() as sess:\n",
    "    # Initialize TensorFlow variables\n",
    "    sess.run(tf.global_variables_initializer())\n",
    "\n",
    "    for step in range(10001):\n",
    "        cost_val, _ = sess.run([cost, train], feed_dict={X: x_data, Y: y_data})\n",
    "        if step % 200 == 0:\n",
    "            print(step, cost_val)\n",
    "\n",
    "    # Accuracy report\n",
    "    h, c, a = sess.run([hypothesis, predicted, accuracy],\n",
    "                       feed_dict={X: x_data, Y: y_data})\n",
    "    print(\"\\nHypothesis: \", h, \"\\nCorrect (Y): \", c, \"\\nAccuracy: \", a)"
   ]
  },
  {
   "cell_type": "code",
   "execution_count": null,
   "metadata": {},
   "outputs": [],
   "source": []
  },
  {
   "cell_type": "code",
   "execution_count": null,
   "metadata": {},
   "outputs": [],
   "source": []
  }
 ],
 "metadata": {
  "kernelspec": {
   "display_name": "Python 3",
   "language": "python",
   "name": "python3"
  },
  "language_info": {
   "codemirror_mode": {
    "name": "ipython",
    "version": 3
   },
   "file_extension": ".py",
   "mimetype": "text/x-python",
   "name": "python",
   "nbconvert_exporter": "python",
   "pygments_lexer": "ipython3",
   "version": "3.6.5"
  }
 },
 "nbformat": 4,
 "nbformat_minor": 2
}
