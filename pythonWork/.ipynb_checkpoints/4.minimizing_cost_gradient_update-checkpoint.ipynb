{
 "cells": [
  {
   "cell_type": "code",
   "execution_count": 7,
   "metadata": {},
   "outputs": [],
   "source": [
    "import tensorflow as tf\n",
    "\n",
    "x_data = [1,2,3]\n",
    "y_data = [1,2,3]\n",
    "\n",
    "W = tf.Variable(tf.random_normal([1], name='weight'))\n",
    "b = tf.Variable(tf.random_normal([1], name='bias'))\n",
    "\n",
    "X = tf.placeholder(tf.float32)\n",
    "Y = tf.placeholder(tf.float32)\n",
    "\n",
    "hypothesis = W * X + b"
   ]
  },
  {
   "cell_type": "code",
   "execution_count": 9,
   "metadata": {},
   "outputs": [],
   "source": [
    "cost = tf.reduce_mean(tf.square(hypothesis - Y) )"
   ]
  },
  {
   "cell_type": "code",
   "execution_count": 11,
   "metadata": {},
   "outputs": [],
   "source": [
    "learning_rate = 0.1\n",
    "gradient = tf.reduce_mean((W*X - Y) * X)\n",
    "descent = W - learning_rate * gradient\n",
    "update = W.assign(descent)"
   ]
  },
  {
   "cell_type": "code",
   "execution_count": 13,
   "metadata": {},
   "outputs": [],
   "source": [
    "sess = tf.Session()\n",
    "sess.run(tf.global_variables_initializer())"
   ]
  },
  {
   "cell_type": "code",
   "execution_count": 14,
   "metadata": {},
   "outputs": [
    {
     "name": "stdout",
     "output_type": "stream",
     "text": [
      "0 3.15651 [ 0.57569098]\n",
      "1 1.84729 [ 0.77370185]\n",
      "2 1.29866 [ 0.87930763]\n",
      "3 1.04862 [ 0.93563074]\n",
      "4 0.927374 [ 0.96566975]\n",
      "5 0.866153 [ 0.98169053]\n",
      "6 0.834481 [ 0.99023491]\n",
      "7 0.817868 [ 0.99479192]\n",
      "8 0.809087 [ 0.99722236]\n",
      "9 0.804426 [ 0.99851859]\n",
      "10 0.801947 [ 0.99920988]\n",
      "11 0.800626 [ 0.9995786]\n",
      "12 0.799922 [ 0.99977523]\n",
      "13 0.799547 [ 0.99988014]\n",
      "14 0.799347 [ 0.99993604]\n",
      "15 0.79924 [ 0.99996591]\n",
      "16 0.799184 [ 0.99998182]\n",
      "17 0.799153 [ 0.99999028]\n",
      "18 0.799137 [ 0.99999481]\n",
      "19 0.799128 [ 0.99999726]\n",
      "20 0.799124 [ 0.99999851]\n"
     ]
    }
   ],
   "source": [
    "for step in range(21):\n",
    "    sess.run(update, feed_dict={X: x_data, Y: y_data})\n",
    "    print(step, sess.run(cost, feed_dict={X: x_data, Y: y_data}), sess.run(W))"
   ]
  },
  {
   "cell_type": "code",
   "execution_count": null,
   "metadata": {},
   "outputs": [],
   "source": []
  }
 ],
 "metadata": {
  "kernelspec": {
   "display_name": "Python 3",
   "language": "python",
   "name": "python3"
  },
  "language_info": {
   "codemirror_mode": {
    "name": "ipython",
    "version": 3
   },
   "file_extension": ".py",
   "mimetype": "text/x-python",
   "name": "python",
   "nbconvert_exporter": "python",
   "pygments_lexer": "ipython3",
   "version": "3.6.3"
  }
 },
 "nbformat": 4,
 "nbformat_minor": 2
}
